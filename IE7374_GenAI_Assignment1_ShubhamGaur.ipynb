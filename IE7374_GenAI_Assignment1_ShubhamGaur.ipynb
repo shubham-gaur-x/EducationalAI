{
 "cells": [
  {
   "cell_type": "markdown",
   "metadata": {
    "id": "BAFsnbqy3lHK"
   },
   "source": [
    "# IE 7374 Gen AI - Assignment 1: Educational AI\n",
    "## By: Shubham Gaur"
   ]
  },
  {
   "cell_type": "markdown",
   "metadata": {
    "id": "WMAZQSMJ3rTh"
   },
   "source": [
    "### Step 1: Set Up Your Environment\n",
    "Make sure you have the openai library installed:"
   ]
  },
  {
   "cell_type": "code",
   "execution_count": 1,
   "metadata": {
    "colab": {
     "base_uri": "https://localhost:8080/"
    },
    "id": "pTVfdm0klrco",
    "outputId": "3aa1af09-28d9-434a-8f83-7e15a6925001"
   },
   "outputs": [],
   "source": [
    "pip install openai"
   ]
  },
  {
   "cell_type": "markdown",
   "metadata": {
    "id": "Bslim7Ha5Vav"
   },
   "source": [
    "### Installing the OpenAI Python Library\n",
    "\n",
    "This cell installs the OpenAI Python library using `pip`. The library is essential for interacting with the OpenAI API, which will be used throughout this notebook to perform tasks such as:\n",
    "\n",
    "- Creating personalized learning plans,\n",
    "- Generating quiz questions,\n",
    "- Solving physics problems, and\n",
    "- Developing chatbot functionalities.\n"
   ]
  },
  {
   "cell_type": "markdown",
   "metadata": {
    "id": "XxvlqwFQ4Qbp"
   },
   "source": [
    "### Step 2: Initialize OpenAI API authentication key"
   ]
  },
  {
   "cell_type": "code",
   "execution_count": 1,
   "metadata": {},
   "outputs": [
    {
     "name": "stdout",
     "output_type": "stream",
     "text": [
      "API Key works! Models available: ['gpt-4o-audio-preview-2024-10-01', 'gpt-4o-mini-audio-preview', 'gpt-4o-realtime-preview', 'gpt-4o-mini-audio-preview-2024-12-17', 'gpt-4o-mini-realtime-preview', 'dall-e-2', 'gpt-4-1106-preview', 'gpt-3.5-turbo', 'gpt-3.5-turbo-0125', 'gpt-3.5-turbo-instruct', 'gpt-4-0613', 'babbage-002', 'o1-mini', 'o1-mini-2024-09-12', 'whisper-1', 'dall-e-3', 'gpt-3.5-turbo-16k', 'gpt-4o-2024-08-06', 'gpt-4o', 'gpt-4o-realtime-preview-2024-10-01', 'omni-moderation-latest', 'o1-preview-2024-09-12', 'omni-moderation-2024-09-26', 'tts-1-hd-1106', 'o1-preview', 'gpt-4', 'chatgpt-4o-latest', 'tts-1-hd', 'davinci-002', 'text-embedding-ada-002', 'gpt-4-turbo-2024-04-09', 'gpt-4-turbo', 'tts-1', 'tts-1-1106', 'gpt-3.5-turbo-instruct-0914', 'gpt-4-turbo-preview', 'gpt-4o-mini-realtime-preview-2024-12-17', 'gpt-4o-audio-preview', 'gpt-4o-2024-05-13', 'text-embedding-3-small', 'gpt-4o-2024-11-20', 'text-embedding-3-large', 'gpt-4o-mini-2024-07-18', 'gpt-4o-audio-preview-2024-12-17', 'gpt-4o-realtime-preview-2024-12-17', 'gpt-4o-mini', 'gpt-3.5-turbo-1106', 'gpt-4-0125-preview']\n"
     ]
    }
   ],
   "source": [
    "import openai\n",
    "import os\n",
    "\n",
    "openai.api_key = os.getenv(\"OPENAI_API_KEY\")\n",
    "\n",
    "try:\n",
    "    response = openai.Model.list()\n",
    "    print(\"API Key works! Models available:\", [model[\"id\"] for model in response[\"data\"]])\n",
    "except Exception as e:\n",
    "    print(\"Error with API Key:\", e)\n"
   ]
  },
  {
   "cell_type": "markdown",
   "metadata": {
    "id": "6wGEzjTQ4G5u"
   },
   "source": [
    "### Step 3: Initialize Student Profile"
   ]
  },
  {
   "cell_type": "code",
   "execution_count": 3,
   "metadata": {
    "id": "pERza-rmoLH-"
   },
   "outputs": [],
   "source": [
    "student_profile = {\n",
    "    \"name\": \"Alex\",\n",
    "    \"grade\": \"10th\",\n",
    "    \"preferred_subjects\": [\"Math\", \"Science\"],\n",
    "    \"learning_goals\": [\"Improve algebra\", \"Physics concepts\"]\n",
    "}\n",
    "model_openai = \"chatgpt-4o-latest\""
   ]
  },
  {
   "cell_type": "markdown",
   "metadata": {
    "id": "-onOn-MU5fHK"
   },
   "source": [
    "### Define the Student Profile and Model Configuration\n",
    "\n",
    "This cell sets up the **student profile** and selects the OpenAI model for use.\n",
    "\n",
    "#### Student Profile\n",
    "- **`name`**: The student’s name (Alex).\n",
    "- **`grade`**: Alex is currently in the 10th grade.\n",
    "- **`preferred_subjects`**: Subjects of interest include Math and Science.\n",
    "- **`learning_goals`**: Alex aims to enhance algebra skills and deepen understanding of physics concepts.\n",
    "\n",
    "#### Model Configuration\n",
    "- **`model_openai`**: Specifies the OpenAI model to be used, configured here as `\"gpt-4o-latest\"`.\n",
    "\n",
    "These settings will be utilized throughout the notebook to generate tailored outputs aligned with Alex's educational needs.\n"
   ]
  },
  {
   "cell_type": "markdown",
   "metadata": {
    "id": "z35Dr1WM5sF4"
   },
   "source": [
    "## Part 1: Multi-Stage Prompting\n",
    "\n",
    "### Stage 1: Creating a Learning Profile\n",
    "\n",
    "This stage introduces the `generate_learning_profile` function, which is designed to create a personalized learning plan for the student (e.g., Alex) based on the provided details such as name, grade level, preferred subjects, and educational objectives.\n",
    "\n",
    "#### Function Details\n",
    "\n",
    "1. **Input**:\n",
    "   - `student_profile`: A dictionary containing the student’s details, such as name, grade, subjects of interest, and learning goals.\n",
    "\n",
    "2. **Prompt Construction**:\n",
    "   - A dynamic prompt is generated using the information from `student_profile`.\n",
    "   - The prompt instructs the AI to analyze the student’s details and create a detailed learning plan.\n",
    "\n",
    "3. **Utilization of the OpenAI API**:\n",
    "   - The `openai.ChatCompletion.create` method is used to send the prompt to the specified model (e.g., `gpt-4o-latest`).\n",
    "   - The `messages` parameter consists of:\n",
    "     - **System Message**: Sets the context by defining the AI’s role as a helpful assistant.\n",
    "     - **User Message**: Contains the prompt derived from the student’s details.\n",
    "\n",
    "4. **Output**:\n",
    "   - The AI’s response is retrieved from the API result (`choices` key) and cleaned by removing extra whitespace.\n",
    "\n",
    "### Purpose\n",
    "\n",
    "This function leverages OpenAI’s language model to generate a tailored and detailed learning plan for the student based on their unique profile."
   ]
  },
  {
   "cell_type": "code",
   "execution_count": 4,
   "metadata": {
    "id": "8bJxszIft02u"
   },
   "outputs": [],
   "source": [
    "# Stage 1: Generate Learning Profile\n",
    "def generate_learning_profile(student_profile):\n",
    "    prompt = f\"\"\"\n",
    "    Based on the following student profile, analyze and generate a detailed learning profile:\n",
    "    Name: {student_profile['name']}\n",
    "    Grade: {student_profile['grade']}\n",
    "    Preferred subjects: {', '.join(student_profile['preferred_subjects'])}\n",
    "    Learning goals: {', '.join(student_profile['learning_goals'])}\n",
    "    \n",
    "    Include details such as the student's strengths, areas for improvement, preferred learning methods, and any other relevant insights.\n",
    "    \"\"\"\n",
    "    response = openai.ChatCompletion.create(\n",
    "        model=model_openai,\n",
    "        messages=[\n",
    "            {\"role\": \"system\", \"content\": \"You are an educational consultant providing personalized learning insights.\"},\n",
    "            {\"role\": \"user\", \"content\": prompt},\n",
    "        ]\n",
    "    )\n",
    "    return response['choices'][0]['message']['content'].strip()\n"
   ]
  },
  {
   "cell_type": "code",
   "execution_count": 5,
   "metadata": {
    "colab": {
     "base_uri": "https://localhost:8080/"
    },
    "id": "KHl8Jh5ooIrE",
    "outputId": "a03a7188-49d9-4bf2-9a25-97d1bcb0339c",
    "scrolled": false
   },
   "outputs": [
    {
     "name": "stdout",
     "output_type": "stream",
     "text": [
      "Stage 1: Learning Profile\n",
      " ### Learning Profile for Alex  \n",
      "**Grade Level:** 10th  \n",
      "**Preferred Subjects:** Math, Science  \n",
      "**Learning Goals:** Improve algebra and Physics concepts  \n",
      "\n",
      "---\n",
      "\n",
      "### **Strengths**\n",
      "1. **Interest in STEM Fields:** Alex demonstrates clear enthusiasm for math and science, which is a strong intrinsic motivator for learning and growth in these areas.  \n",
      "2. **Analytical Thinking:** A preference for math and science often indicates strong problem-solving abilities, logical reasoning, and analytical skills, which are crucial for tackling complex problems in algebra and physics.  \n",
      "3. **Conceptual Curiosity:** Interest in physics concepts suggests that Alex is curious about understanding how things work, a key trait for mastery in science and engineering.  \n",
      "4. **Focus on Improvement:** Alex has specific, well-defined learning goals, which is a good indicator of self-awareness and a desire for personal improvement.  \n",
      "\n",
      "---\n",
      "\n",
      "### **Areas for Improvement**\n",
      "1. **Algebra:**  \n",
      "   - Alex likely faces challenges with more advanced algebra, such as quadratic equations, inequalities, functions, or polynomials. A review of foundational concepts (e.g., manipulating variables, balancing equations) may also be needed.  \n",
      "   - Real-world application of algebra might be a gap area that could benefit from development to ensure deeper understanding.  \n",
      "\n",
      "2. **Physics Concepts:**  \n",
      "   - Alex could be struggling with abstract concepts like forces, energy transfer, or motion.  \n",
      "   - Problem-solving in physics often requires the application of both math and conceptual reasoning, so strengthening interdisciplinary integration might help.  \n",
      "\n",
      "3. **Retention:**  \n",
      "   - Retaining formulas and applying them to different scenarios is often difficult for 10th-grade students. This could be an area to focus on with strategies like visualization or mnemonics.  \n",
      "\n",
      "4. **Attention to Detail:**  \n",
      "   - A common area for growth in STEM learners is accurately completing multi-step problems. Small calculation errors or misinterpretations could be a hurdle.  \n",
      "\n",
      "---\n",
      "\n",
      "### **Preferred Learning Methods**\n",
      "1. **Active Problem-Solving:**  \n",
      "   - Alex thrives on solving problems rather than passive reading or rote memorization. Activities like practice worksheets, puzzles, or interactive problem-solving games can engage his attention.  \n",
      "\n",
      "2. **Visual Aids:**  \n",
      "   - Tools like graphs, charts, videos, and diagrams that illustrate mathematical principles and physics phenomena may help clarify difficult concepts.  \n",
      "\n",
      "3. **Hands-On Experiments:**  \n",
      "   - For physics, experiential learning such as labs, simulations, and practical experiments will likely deepen Alex’s understanding of abstract concepts.  \n",
      "\n",
      "4. **Incremental Challenges:**  \n",
      "   - Gradual increases in problem difficulty can help build confidence while avoiding overwhelm. Building from simpler, foundational questions can lead to mastery of more complex topics.  \n",
      "\n",
      "5. **Technology-Based Tools:**  \n",
      "   - Apps, online platforms like Khan Academy or Wolfram Alpha, and physics simulations (e.g., PhET Interactive Simulations) might appeal to Alex’s interest in math and science while providing interactive, self-paced learning resources.\n",
      "\n",
      "6. **Collaborative Learning:**  \n",
      "   - Working alongside peers or participating in study groups may push Alex to verbalize his thought process, reinforcing understanding.  \n",
      "\n",
      "---\n",
      "\n",
      "### **Recommended Strategies**\n",
      "1. **Algebra (Improvement Focus):**  \n",
      "   - Break down complex equations step by step to build confidence.  \n",
      "   - Practice graphing functions (linear, quadratic, exponential) to understand their real-world significance.  \n",
      "   - Use online platforms like Desmos to visualize equations and explore how changes to variables affect results.  \n",
      "\n",
      "2. **Physics Concepts (Improvement Focus):**  \n",
      "   - Start with demonstrations or real-life analogies to introduce abstract concepts (e.g., using toy cars to illustrate motion).  \n",
      "   - Focus on unit conversion, vector analysis, and free-body diagrams, as they are foundational tools in physics problem-solving.  \n",
      "   - Pair textbook problems with interactive simulations to simulate real-world applications of physics laws.  \n",
      "\n",
      "3. **Study Plan:**  \n",
      "   - Allocate separate but balanced time blocks for algebra and physics each day.  \n",
      "   - Mix problem-solving with theory review to strengthen knowledge retention.  \n",
      "   - Regularly revisit difficult topics to ensure mastery before advancing.\n",
      "\n",
      "4. **Assessment and Reflection:**  \n",
      "   - Track progress through frequent self-assessments (quizzes or problem sets) to identify areas for continuous improvement.  \n",
      "   - Maintain a “mistake journal” to reflect on errors, understand them, and avoid repeating them.\n",
      "\n",
      "---\n",
      "\n",
      "### **Additional Insights**\n",
      "1. **Growth Mindset Development:**  \n",
      "   - Remind Alex that making mistakes is part of learning, especially in STEM subjects. Encouraging a growth mindset will prevent frustration and nurture persistence.  \n",
      "\n",
      "2. **Cross-Curricular Connections:**  \n",
      "   - To deepen understanding, help Alex make connections between algebra and physics. For instance, use algebra to derive kinematic equations or analyze projectile motion.  \n",
      "\n",
      "3. **Long-Term Vision:**  \n",
      "   - Emphasize how mastery of algebra and physics will be foundational for success in advanced STEM opportunities, such as AP/IB courses or college-level subjects. Linking today’s efforts to future achievements can boost motivation.  \n",
      "\n",
      "4. **Encourage Curiosity:**  \n",
      "   - Encourage Alex to explore related interests in technology, engineering, or even coding, which often ties in closely with math and physics.  \n",
      "\n",
      "---\n",
      "\n",
      "### **Conclusion**\n",
      "Alex is a motivated and focused learner with strong analytical abilities and an interest in STEM fields. By addressing foundational areas in algebra and physics, leveraging visual and interactive learning tools, and incorporating active problem-solving strategies, Alex can make significant progress toward his goals. With consistent effort and tailored support, he’s well-positioned to excel both academically and in future STEM pursuits. \n",
      "\n"
     ]
    }
   ],
   "source": [
    "# Generate Student Profile\n",
    "learning_profile = generate_learning_profile(student_profile)\n",
    "print(\"Stage 1: Learning Profile\\n\", learning_profile, \"\\n\")"
   ]
  },
  {
   "cell_type": "markdown",
   "metadata": {
    "id": "sR6CYRMa4Z1W"
   },
   "source": [
    "### ChatGPT's Performance in Generating the Learning Profile\n",
    "\n",
    "ChatGPT successfully created a detailed and well-structured learning profile for Alex, effectively addressing the input criteria provided in the prompt. The output comprehensively captured Alex's learning goals, strengths, areas for improvement, and preferred learning methods in a clear and student-focused format.\n",
    "\n",
    "The model offered actionable strategies tailored to Alex's profile, demonstrating a strong understanding of the context. Additionally, it highlighted practical study methods, such as problem-based learning, visual aids, and targeted practice. These suggestions align well with Alex's learning needs and goals.\n",
    "\n",
    "However, some areas could benefit from improvement:\n",
    "- **Resource Recommendations**: While the suggestions were relevant, they lacked specificity. Including actionable details, such as links to online courses, specific book titles, or recommended apps, would enhance the utility of the recommendations for both Alex and educators.  \n",
    "- **Clarity and Conciseness**: While the output was thorough, some sections were overly verbose. For example, the strengths and areas for improvement could have been summarized more succinctly to improve readability without losing key insights.  \n",
    "\n",
    "In conclusion, ChatGPT demonstrated a strong ability to generate a personalized and actionable learning profile. With more specific resource recommendations and streamlined sections, the output could be even more impactful and user-friendly."
   ]
  },
  {
   "cell_type": "markdown",
   "metadata": {
    "id": "Cabg_2Hl778V"
   },
   "source": [
    "### Stage 2: Design Personalized Study Plan\n",
    "\n",
    "#### Defining the `design_study_plan` Function\n",
    "\n",
    "The `design_study_plan` function is responsible for creating a customized 4-week study plan for Alex, with a focus on algebra and physics, based on the student’s learning profile.\n",
    "\n",
    "#### Function Details\n",
    "\n",
    "1. **Input**:\n",
    "   - **`student_profile`**: A string that represents the student's learning profile, including their goals, strengths, and preferred learning style.\n",
    "\n",
    "2. **Prompt Construction**:\n",
    "   - The function dynamically generates a prompt instructing the AI to design a personalized 4-week study plan for Alex, tailored to their specific learning needs and objectives.\n",
    "\n",
    "3. **Using the OpenAI API**:\n",
    "   - The `openai.ChatCompletion.create` method sends the generated prompt to the specified model (e.g., `gpt-4`).\n",
    "   - The `messages` parameter includes:\n",
    "     - **System Message**: Provides context, directing the AI to act as a helpful assistant.\n",
    "     - **User Message**: Includes specific instructions and the prompt for creating a detailed study plan.\n",
    "\n",
    "4. **Output**:\n",
    "   - Extracts the study plan from the API’s response.\n",
    "   - Removes unnecessary whitespace using the `strip()` method for a clean output.\n",
    "\n",
    "#### **Purpose**\n",
    "The function automates the process of creating a structured 4-week study plan that aligns with the student’s goals and strengths. It utilizes ChatGPT’s capabilities to generate detailed, actionable, and customized educational plans for effective learning.\n"
   ]
  },
  {
   "cell_type": "code",
   "execution_count": 6,
   "metadata": {
    "id": "MyK5_3cmyvnS"
   },
   "outputs": [],
   "source": [
    "# Stage 2: Design Personalized Study Plan\n",
    "def design_study_plan(student_profile):\n",
    "    prompt = f\"\"\"\n",
    "    Using the following student learning profile:\n",
    "    {student_profile}\n",
    "    \n",
    "    Design a personalized 4-week study plan focused on algebra and physics. \n",
    "    Ensure the study plan includes:\n",
    "    - Weekly learning objectives\n",
    "    - Daily tasks or topics to cover\n",
    "    - A mix of theoretical study, practical application, and revision sessions\n",
    "    - Recommendations for study techniques suitable for the student's learning style\n",
    "    \"\"\"\n",
    "    response = openai.ChatCompletion.create(\n",
    "        model=model_openai,\n",
    "        messages=[\n",
    "            {\"role\": \"system\", \"content\": \"You are an experienced tutor creating effective study plans for students.\"},\n",
    "            {\"role\": \"user\", \"content\": prompt},\n",
    "        ]\n",
    "    )\n",
    "    return response['choices'][0]['message']['content'].strip()\n"
   ]
  },
  {
   "cell_type": "code",
   "execution_count": 7,
   "metadata": {
    "colab": {
     "base_uri": "https://localhost:8080/"
    },
    "id": "_5g671lSyy3j",
    "outputId": "b050bedb-4db1-4751-f258-0022470bf1a3",
    "scrolled": false
   },
   "outputs": [
    {
     "name": "stdout",
     "output_type": "stream",
     "text": [
      "Stage 2: Study Plan\n",
      " ### **Personalized 4-Week Study Plan for Alex**\n",
      "\n",
      "---  \n",
      "### **Week 1: Building Foundational Concepts**  \n",
      "**Learning Objectives:**  \n",
      "- Reinforce key algebra foundations crucial for upper-level work (e.g., solving equations, inequalities, functions).  \n",
      "- Develop familiarity with basic physics concepts such as motion and forces.  \n",
      "- Begin integrating algebra into physics problems.  \n",
      "\n",
      "**Weekly Focus:**  \n",
      "- **Algebra:** Foundational skills: solving for variables, fundamentals of quadratic equations, graphing linear/simple quadratic functions.  \n",
      "- **Physics:** Introduction to motion, acceleration, and Newton’s Laws of Motion.\n",
      "\n",
      "| **Day** | **Focus Topic** | **Tasks/Activities**                                                                                       | **Techniques**                                                                                   |\n",
      "|---------|----------------|-----------------------------------------------------------------------------------------------------------|------------------------------------------------------------------------------------------------|\n",
      "| Day 1   | Algebra Basics   | - Revise solving linear equations and simple quadratic equations.  \n",
      "                               - Complete practice problems on balancing and simplifying equations.                                         | **Step-by-Step Breakdown:** Solve problems incrementally, showing full work for accuracy.                                                   |\n",
      "| Day 2   | Graphing        | - Learn graphing basics for linear and quadratic functions (plot points, identify vertex and intercepts).    - Use **Desmos** for visualizing functions.                                                        | **Visual Learning:** Graph equations on paper and through tools like Desmos for better understanding.                                                  |\n",
      "| Day 7 Research Period dedicated what me \"\tCreate Software to align week Major Tules\"-->排序 Priority- tailored mistaken adjustable handbook\". \n",
      "\n"
     ]
    }
   ],
   "source": [
    "# Design Personalized Study Plan\n",
    "study_plan = design_study_plan(learning_profile)\n",
    "print(\"Stage 2: Study Plan\\n\", study_plan, \"\\n\")\n"
   ]
  },
  {
   "cell_type": "markdown",
   "metadata": {
    "id": "AUuk-ZOM4ari"
   },
   "source": [
    "#### ChatGPT's Performance in Generating the Study Plan\n",
    "\n",
    "ChatGPT effectively created a detailed and well-structured 4-week study plan for Alex, meeting the input criteria outlined in the prompt. The output clearly defined weekly goals, specific tasks, and techniques to track progress, ensuring a practical and actionable approach.\n",
    "\n",
    "The model demonstrated strong contextual understanding by recommending tailored activities. For example, it suggested using visual aids, such as physics simulations and graphing tools like Desmos, to reinforce learning. Hands-on tasks, such as applying algebra in physics scenarios (e.g., solving motion equations), were well-aligned with Alex's strengths and learning preferences. These recommendations encouraged a balance between theoretical understanding and practical application.\n",
    "\n",
    "Incorporating motivational elements, such as celebrating small achievements, conducting reflective sessions, and adjusting the plan based on progress, added a thoughtful and supportive touch to the study plan. These elements helped ensure the plan was both engaging and adaptive to Alex’s needs.\n",
    "\n",
    "However, there is room for improvement in the specificity of resource recommendations. Instead of general mentions of tools like \"Khan Academy\" or \"IXL,\" the plan could include particular courses, detailed video tutorials, or curated problem sets tailored to the weekly focus areas. This would provide Alex with more actionable and readily accessible resources.\n",
    "\n",
    "In summary, ChatGPT delivered a personalized and practical study plan that thoughtfully considered Alex’s learning preferences and goals. While the plan was comprehensive and well-organized, including more precise and specific resource suggestions would make it even more impactful and effective.\n"
   ]
  },
  {
   "cell_type": "markdown",
   "metadata": {
    "id": "KHwBjd5W9687"
   },
   "source": [
    "### Stage 3: Summarize Resources (Books, Online Courses, Practice Tests)\n",
    "\n",
    "#### Defining the `summarize_resources` Function\n",
    "\n",
    "The `summarize_resources` function is designed to generate a tailored list of recommended resources, including books, online courses, and practice tests, to support Alex’s learning goals in algebra and physics.\n",
    "\n",
    "#### Function Details\n",
    "\n",
    "1. **Input**:\n",
    "   - **`student_profile`**: A string that represents Alex’s learning profile, detailing their academic objectives and preferences.\n",
    "\n",
    "2. **Prompt Construction**:\n",
    "   - The function dynamically creates a prompt instructing the AI to identify and summarize relevant resources for algebra and physics.\n",
    "   - The prompt specifically requests types of resources such as books, online courses, and practice tests, and suggests including links to these resources when possible.\n",
    "\n",
    "3. **Using the OpenAI API**:\n",
    "   - The `openai.ChatCompletion.create` method is used to send the generated prompt to the specified model (e.g., `gpt-4`).\n",
    "   - The `messages` parameter includes:\n",
    "     - **System Message**: Establishes the AI’s role as a helpful assistant.\n",
    "     - **User Message**: Provides detailed instructions for generating a resource list tailored to Alex’s needs.\n",
    "\n",
    "4. **Output**:\n",
    "   - Extracts the list of resources from the API response.\n",
    "   - Formats the output as a clean string by removing unnecessary whitespace using the `strip()` method.\n",
    "\n",
    "#### **Purpose**\n",
    "This function utilizes ChatGPT’s ability to curate and summarize relevant educational materials. By aligning recommendations with Alex’s specific learning goals, it enhances the study plan by providing actionable and targeted resources for mastering algebra and physics.\n"
   ]
  },
  {
   "cell_type": "code",
   "execution_count": 8,
   "metadata": {
    "id": "jO35mLUsnpI_"
   },
   "outputs": [],
   "source": [
    "# Stage 3: Summarize Resources (Books, Online Courses, Practice Tests)\n",
    "def summarize_resources(student_profile):\n",
    "    prompt = f\"\"\"\n",
    "    Based on the following student learning profile:\n",
    "    {student_profile}\n",
    "    \n",
    "    Provide a list of recommended resources to help the student achieve their learning goals in algebra and physics.\n",
    "    Include:\n",
    "    - Books (with authors and a brief description)\n",
    "    - Online courses (with platform names and links if possible)\n",
    "    - Practice tests or problem-solving platforms\n",
    "    - Any additional tools or apps that may assist in their learning\n",
    "    \"\"\"\n",
    "    response = openai.ChatCompletion.create(\n",
    "        model=model_openai,\n",
    "        messages=[\n",
    "            {\"role\": \"system\", \"content\": \"You are an educational advisor recommending the best resources for students.\"},\n",
    "            {\"role\": \"user\", \"content\": prompt},\n",
    "        ]\n",
    "    )\n",
    "    return response['choices'][0]['message']['content'].strip()\n"
   ]
  },
  {
   "cell_type": "code",
   "execution_count": 9,
   "metadata": {
    "colab": {
     "base_uri": "https://localhost:8080/"
    },
    "id": "mSghOgIxzSoV",
    "outputId": "164f70e8-da79-4404-8964-3fb967b8c4d9",
    "scrolled": false
   },
   "outputs": [
    {
     "name": "stdout",
     "output_type": "stream",
     "text": [
      "Stage 3: Resources\n",
      " Here’s a comprehensive list of resources to help Alex strengthen his algebra and physics knowledge and achieve his learning goals:\n",
      "\n",
      "---\n",
      "\n",
      "### **Books**\n",
      "1. **Algebra**\n",
      "   - *“Algebra for College Students” by Mark Dugopolski*: A well-structured book that covers foundational algebra and advanced topics like quadratic functions and polynomials with visual aids and numerous problem-solving examples.\n",
      "   - *“CK-12 Algebra I – Second Edition”* (Free PDF on CK-12 Foundation Website): A comprehensive, student-friendly guide to core algebra topics with practice problems and real-world applications.\n",
      "   - *“Algebra: Structure and Method, Book 1” by Richard G. Brown*: A highly regarded classic textbook that offers step-by-step instructions and substantive practice on core algebra concepts.\n",
      "\n",
      "2. **Physics**\n",
      "   - *“Conceptual Physics” by Paul G. Hewitt*: A well-known, beginner-friendly book that emphasizes understanding fundamental physics concepts through visuals and analogies rather than heavy math.\n",
      "   - *“Fundamentals of Physics” by David Halliday, Robert Resnick, and Jearl Walker*: This is an advanced but accessible book for a deeper dive into physics. The examples and problems make it ideal for transitioning from concepts to applications.\n",
      "   - *“Physics: Principles with Applications” by Douglas C. Giancoli*: Offers straightforward explanations of core physics principles, with practical examples and illustrations.\n",
      "\n",
      "---\n",
      "\n",
      "### **Online Courses**\n",
      "1. **Algebra**\n",
      "   - **Khan Academy (Free)**:  \n",
      "     Link: [https://www.khanacademy.org/math](https://www.khanacademy.org/math)  \n",
      "     This self-paced platform offers video tutorials, practice exercises, and quizzes on topics like quadratic equations, functions, and inequalities.\n",
      "   - **EdX – \"High School Algebra I and II (Arizona State University Prep Academy)\" (Free/Paid options)**:  \n",
      "     Link: [https://www.edx.org/course](https://www.edx.org/course)  \n",
      "     A structured course covering foundational to advanced algebra concepts with interactive quizzes.\n",
      "   - **Brilliant - Algebra Fundamentals** (Subscription-based):  \n",
      "     Link: [https://www.brilliant.org](https://www.brilliant.org)  \n",
      "     An interactive, problem-solving platform focusing on puzzles and creative ways to build algebraic thinking skills.\n",
      "\n",
      "2. **Physics**\n",
      "   - **Khan Academy (Free)**:  \n",
      "     Link: [https://www.khanacademy.org/science/physics](https://www.khanacademy.org/science/physics)  \n",
      "     Covers kinematics, forces, momentum, energy, and more using videos and interactive lessons.\n",
      "   - **PhET Interactive Simulations (Free)**:  \n",
      "     Link: [https://phet.colorado.edu](https://phet.colorado.edu)  \n",
      "     Offers interactive simulations on a variety of physics topics (e.g., motion, energy, circuits) to help Alex visualize abstract concepts.\n",
      "   - **CrashCourse Physics (YouTube Free)**:  \n",
      "     Link: [https://www.youtube.com/CrashCourse](https://www.youtube.com/CrashCourse)  \n",
      "     Engaging, fast-paced video lectures covering high school physics concepts with humor and visuals.\n",
      "   - **Coursera – \"How Things Work: An Introduction to Physics\" by University of Virginia (Free/Paid)**:  \n",
      "     Link: [https://www.coursera.org](https://www.coursera.org)  \n",
      "     Covers fundamental concepts and ties them to everyday examples (e.g., car engines, flying, and falling objects).\n",
      "\n",
      "---\n",
      "\n",
      "### **Practice Tests & Problem-Solving Platforms**\n",
      "1. **Algebra**\n",
      "   - **IXL (Paid)**:  \n",
      "     Link: [https://www.ixl.com](https://www.ixl.com)  \n",
      "     Offers skill-aligned practice for algebra topics, with instant feedback and a score-tracking feature.\n",
      "   - **Mathway (Free with Paid Add-Ons)**:  \n",
      "     Link: [https://www.mathway.com](https://www.mathway.com)  \n",
      "     A problem-solving assistant where Alex can input algebraic equations to receive step-by-step solutions.\n",
      "   - **Desmos – Graphing Calculator (Free)**:  \n",
      "     Link: [https://www.desmos.com](https://www.desmos.com)  \n",
      "     Intuitive graphing software to visualize equations and explore algebraic concepts interactively.\n",
      "\n",
      "2. **Physics**\n",
      "   - **Albert.io – Physics Practice Tests (Paid)**:  \n",
      "     Link: [https://www.albert.io](https://www.albert.io)  \n",
      "     Offers practice problems on common high school physics topics, including kinematics, forces, energy, and momentum.\n",
      "   - **Physics Classroom (Free)**:  \n",
      "     Link: [https://www.physicsclassroom.com](https://www.physicsclassroom.com)  \n",
      "     Combines tutorials, animations, and problem sets to explain physics concepts clearly.\n",
      "   - **Toppr’s Practice Platform (Free/Paid)**:  \n",
      "     Link: [https://www.toppr.com/](https://www.toppr.com/)  \n",
      "     Offers thousands of interactive questions and quizzes for high school-level physics problems with hints and detailed solutions.\n",
      "\n",
      "---\n",
      "\n",
      "### **Tools & Apps**\n",
      "1. **Algebra**\n",
      "   - **Photomath (Free/Paid Premium)**:  \n",
      "     Link: [https://www.photomath.com](https://www.photomath.com)  \n",
      "     Students can scan algebraic problems with their phone, and the app provides step-by-step solutions and explanations.\n",
      "   - **GeoGebra (Free)**:  \n",
      "     Link: [https://www.geogebra.org](https://www.geogebra.org)  \n",
      "     Combines geometry, algebra, and graphing tools for hands-on exploration of mathematical relationships.\n",
      "\n",
      "2. **Physics**\n",
      "   - **PocketPhysics (Free)**:  \n",
      "     Link: Available on iOS and Android  \n",
      "     This app provides concise and clear summaries of physics concepts, with formulas and key ideas for quick reference.\n",
      "   - **Physics Toolbox Suite (Free)**:  \n",
      "     Link: Available on Android and iOS  \n",
      "     A collection of sensors and tools (accelerometer, gyroscope, etc.) allowing students to conduct real-world experiments.\n",
      "   - **SimPop Physics (Free)**:  \n",
      "     Link: [https://www.simpop.org/](https://www.simpop.org/)  \n",
      "     Offers high school physics simulations for mechanics, optics, and thermodynamics.\n",
      "\n",
      "---\n",
      "\n",
      "### **Encouragement and Additional Suggestions**\n",
      "1. **Study Groups and Forums:**\n",
      "   - Join study communities such as Reddit’s **r/learnmath** or **r/Physics** to ask questions, learn from others, and stay motivated.\n",
      "\n",
      "2. **STEM Exploration Tools:**\n",
      "   - Encourage Alex to explore coding platforms like **Scratch** or **Python (Codeacademy)** to develop skills relevant to problem-solving in STEM fields.\n",
      "\n",
      "3. **Competitions and Challenges:**\n",
      "   - Encourage participation in math competitions (e.g., AMC 10) or physics contests, which can provide structured challenges to apply knowledge in an exciting way.\n",
      "\n",
      "---\n",
      "\n",
      "### **Final Thought**\n",
      "With the right tools, consistent practice, and guidance, Alex can significantly strengthen his foundation in algebra and physics while building long-term skills for STEM success.\n"
     ]
    }
   ],
   "source": [
    "# Summarize Resources\n",
    "resources = summarize_resources(learning_profile)\n",
    "print(\"Stage 3: Resources\\n\", resources)\n"
   ]
  },
  {
   "cell_type": "markdown",
   "metadata": {
    "id": "ENQzp3nb4bu9"
   },
   "source": [
    "#### ChatGPT's Performance in Generating the Resources\n",
    "\n",
    "ChatGPT successfully generated a comprehensive and detailed list of resources aligned with Alex's learning objectives in physics and algebra. The recommendations included a diverse mix of books, online courses, practice tests, tools, and support strategies, all tailored to Alex's visual and kinesthetic learning preferences.\n",
    "\n",
    "The model demonstrated strong contextual understanding by suggesting resources specific to Alex’s needs and interests. For example, it highlighted interactive platforms such as **Khan Academy** and **IXL Learning** for algebra, and **PhET Interactive Simulations** for physics, ensuring a well-rounded approach that integrates theoretical understanding with practical application. Additionally, these suggestions were highly actionable, with direct links to online courses, books, and tools, making it easier for Alex to access and use the recommended resources.\n",
    "\n",
    "The inclusion of motivational elements, such as participating in STEM competitions and joining math and science clubs, added an engaging and aspirational dimension to the recommendations. Moreover, the model showcased its ability to support personalized learning by suggesting adaptive tools like **Photomath**, **Quizlet**, and **Desmos**, which cater to various learning styles and track progress effectively.\n",
    "\n",
    "In summary, ChatGPT delivered a well-structured, actionable, and engaging set of resources that effectively addressed Alex's learning goals and preferences. By providing detailed, specific suggestions and balancing engagement with practicality, the output enhanced the educational guidance offered to Alex.\n"
   ]
  },
  {
   "cell_type": "markdown",
   "metadata": {
    "id": "2HfnNINXCdyK"
   },
   "source": [
    "## Part 2: Few-Shot Prompting for Quiz Generation"
   ]
  },
  {
   "cell_type": "markdown",
   "metadata": {
    "id": "wi1Nh5-kCZ6j"
   },
   "source": [
    "### Defining the `generate_quiz` Function\n",
    "\n",
    "The `generate_quiz` function is designed to create a set of quiz questions tailored for a 10th-grade student focusing on algebra and physics.\n",
    "\n",
    "#### Function Details\n",
    "\n",
    "1. **Prompt Construction**:\n",
    "   - The function dynamically constructs a prompt that includes examples of algebra and physics questions suitable for a 10th-grade skill level:\n",
    "     - **Math Examples**: Problems such as simplifying algebraic expressions or solving quadratic equations.\n",
    "     - **Physics Examples**: Questions like calculating the time to reach the highest point for a ball thrown upward or determining acceleration from force and mass.\n",
    "   - The model is instructed to generate two additional questions for each subject, matching the provided examples in complexity and difficulty.\n",
    "\n",
    "2. **Using the OpenAI API**:\n",
    "   - The `openai.ChatCompletion.create` method sends the constructed prompt to the specified model (e.g., `gpt-4`).\n",
    "   - The `messages` parameter includes:\n",
    "     - **System Message**: Defines the AI's role as a quiz-creating assistant.\n",
    "     - **User Message**: Specifies the detailed requirements and format for generating the quiz.\n",
    "\n",
    "3. **Output**:\n",
    "   - Extracts the quiz questions generated by the AI from the API response.\n",
    "   - Cleans up the output by removing unnecessary whitespace.\n",
    "\n",
    "4. **Quiz Generation**:\n",
    "   - The resulting quiz is stored in a variable named `quiz` and displayed for review.\n",
    "\n",
    "#### **Purpose**\n",
    "The function showcases ChatGPT’s ability to generate personalized quiz questions that match a student’s academic level and focus areas. By employing few-shot prompting, it ensures the output is consistent with the examples provided, making it a valuable tool for educational content creation.\n"
   ]
  },
  {
   "cell_type": "code",
   "execution_count": 10,
   "metadata": {
    "colab": {
     "base_uri": "https://localhost:8080/"
    },
    "id": "XOfErj3g0ZSr",
    "outputId": "4db97105-0af0-4283-8ca2-e0cfcd67ad93"
   },
   "outputs": [
    {
     "name": "stdout",
     "output_type": "stream",
     "text": [
      "Generated Quiz:\n",
      " **Algebra Questions:**\n",
      "\n",
      "1. Simplify the expression: 4(2x - 3) + 5x(3x + 2) - 7.  \n",
      "2. Solve for \\(x\\): \\(\\frac{3x - 4}{2} + \\frac{x}{3} = 5\\).\n",
      "\n",
      "**Physics Questions:**\n",
      "\n",
      "1. A runner increases his velocity from 2 m/s to 8 m/s in 4 seconds. Calculate the uniform acceleration.  \n",
      "2. A 15 kg object is pushed along a horizontal surface with a force of 50 N. If the coefficient of kinetic friction is 0.2, calculate the acceleration of the object (consider gravity as 9.8 m/s²).\n"
     ]
    }
   ],
   "source": [
    "# Function to generate quiz questions\n",
    "def generate_quiz():\n",
    "    prompt = \"\"\"\n",
    "    Create a quiz for a 10th-grade student studying algebra and physics. \n",
    "    The questions should be challenging yet appropriate for their grade level. Provide two questions for each subject. Examples:\n",
    "\n",
    "    - Algebra: Simplify the expression: 3x(2x + 5) - 4(x - 3).\n",
    "    - Algebra: Solve the quadratic equation: 2x² - 7x + 3 = 0.\n",
    "\n",
    "    - Physics: A car accelerates uniformly from rest to a speed of 25 m/s in 5 seconds. Calculate the acceleration.\n",
    "    - Physics: A 10 kg object is lifted vertically with a force of 120 N. Calculate the acceleration of the object (consider gravity as 9.8 m/s²).\n",
    "\n",
    "    Generate similar questions for each subject, ensuring they are relevant to the curriculum. Do not provide answers.\n",
    "    \"\"\"\n",
    "    response = openai.ChatCompletion.create(\n",
    "        model=model_openai,\n",
    "        messages=[\n",
    "            {\"role\": \"system\", \"content\": \"You are a helpful assistant for creating educational quizzes.\"},\n",
    "            {\"role\": \"user\", \"content\": prompt},\n",
    "        ]\n",
    "    )\n",
    "    return response['choices'][0]['message']['content'].strip()\n",
    "\n",
    "# Generate the quiz\n",
    "quiz = generate_quiz()\n",
    "print(\"Generated Quiz:\\n\", quiz)\n"
   ]
  },
  {
   "cell_type": "markdown",
   "metadata": {
    "id": "CDK1thWMCOXO"
   },
   "source": [
    "#### ChatGPT's Performance in Generating the Quiz Questions\n",
    "\n",
    "ChatGPT successfully generated a set of quiz questions appropriate for Alex’s proficiency in physics and algebra. The output demonstrated a clear understanding of the prompt’s requirements, providing questions that were both challenging and aligned with the 10th-grade curriculum.\n",
    "\n",
    "The model exhibited strong contextual awareness by crafting questions that were engaging, practical, and well-suited to Alex’s academic level. For instance:\n",
    "\n",
    "1. The algebra question, such as simplifying \\(4(2x - 3) + 5x(3x + 2) - 7\\), effectively reinforced Alex’s foundational algebraic skills and introduced complexity through multi-step simplification.  \n",
    "2. The physics problem involving calculating the acceleration of an object with friction emphasized real-world applications of Newton’s second law and kinematic concepts, encouraging Alex to integrate theoretical and practical knowledge.\n",
    "\n",
    "While the generated questions were relevant and well-constructed, there is room for improvement by adding nuanced problems that require higher-order thinking or multi-step reasoning. For example, incorporating word problems or questions that combine algebraic manipulation with physics concepts could offer more depth and variety.\n",
    "\n",
    "In summary, ChatGPT demonstrated excellent contextual understanding and adherence to the requirements, making it a valuable tool for generating educational content. By incorporating more complex and diverse problem types, the quizzes could be further optimized to challenge Alex and promote deeper learning.\n"
   ]
  },
  {
   "cell_type": "markdown",
   "metadata": {
    "id": "Pc5qSnTPEK1g"
   },
   "source": [
    "## Part 3: Chain-of-Thought Reasoning"
   ]
  },
  {
   "cell_type": "markdown",
   "metadata": {
    "id": "CyjtCxrEESDk"
   },
   "source": [
    "### Defining the `generate_and_solve_question` Function\n",
    "\n",
    "The `generate_and_solve_question` function is designed to use chain-of-thought reasoning to generate a hypothetical physics problem tailored to Alex’s skill level and provide a detailed step-by-step solution.\n",
    "\n",
    "#### Function Details\n",
    "\n",
    "1. **Prompt Construction**:\n",
    "   - The prompt includes an example physics problem solved using chain-of-thought reasoning, such as determining the time it takes for a ball thrown upward to reach its peak height.\n",
    "   - The model is instructed to create a new physics question and solve it using a similar step-by-step reasoning method.\n",
    "\n",
    "2. **OpenAI API Call**:\n",
    "   - The `openai.ChatCompletion.create` method is used to send the prompt to the specified model (e.g., `model_openai`).\n",
    "   - The `messages` parameter includes:\n",
    "     - **System Message**: Directs the AI to act as a helpful assistant for solving physics problems clearly and logically.\n",
    "     - **User Message**: Provides the detailed prompt, including an example and task instructions.\n",
    "\n",
    "3. **Output**:\n",
    "   - The function extracts the generated question and its solution from the API response.\n",
    "   - The solution is formatted by removing unnecessary whitespace using the `strip()` method.\n",
    "\n",
    "4. **Generated Output**:\n",
    "   - The result is a new physics question with a corresponding solution explained step-by-step. The solution is tailored to Alex’s academic level and focuses on enhancing understanding of physics concepts.\n",
    "\n",
    "#### **Purpose**\n",
    "This function leverages ChatGPT’s ability to employ chain-of-thought reasoning to create and solve physics problems. It provides Alex with clear and logical explanations, helping to improve problem-solving skills and reinforce understanding of key physics principles.\n"
   ]
  },
  {
   "cell_type": "code",
   "execution_count": 15,
   "metadata": {
    "colab": {
     "base_uri": "https://localhost:8080/"
    },
    "id": "huF-9bGe0303",
    "outputId": "2a243bb5-7f79-4caf-9524-ccc8aff9572c"
   },
   "outputs": [
    {
     "name": "stdout",
     "output_type": "stream",
     "text": [
      "Generated Question and Solution:\n",
      " ### Question: \n",
      "A ball is thrown straight up into the air with an initial velocity of \\( 20 \\, \\text{m/s} \\). How high does the ball go before coming to a stop momentarily at the top?\n",
      "\n",
      "---\n",
      "\n",
      "### Step-by-Step Chain-of-Thought Solution:\n",
      "\n",
      "1. **Identify the known values:**\n",
      "   - Initial velocity (\\(u\\)) = \\(20 \\, \\text{m/s}\\)\n",
      "   - Final velocity at the top (\\(v\\)) = \\(0 \\, \\text{m/s}\\) (the ball momentarily stops at the highest point before falling back down)\n",
      "   - Acceleration (\\(a\\)) = \\(-9.8 \\, \\text{m/s}^2\\) (negative because gravity acts downward)\n",
      "\n",
      "2. **Recall the equation of motion that relates these quantities:**\n",
      "   To calculate the maximum height (\\(s\\)), use the equation:\n",
      "   \\[\n",
      "   v^2 = u^2 + 2as\n",
      "   \\]\n",
      "   Rearrange it to solve for displacement (\\(s\\)):  \n",
      "   \\[\n",
      "   s = \\frac{v^2 - u^2}{2a}\n",
      "   \\]\n",
      "\n",
      "3. **Substitute the known values into the equation:**\n",
      "   - \\(v^2 = 0^2 = 0\\),\n",
      "   - \\(u^2 = (20)^2 = 400\\),\n",
      "   - \\(a = -9.8 \\, \\text{m/s}^2\\).\n",
      "\n",
      "   Substituting into the formula:  \n",
      "   \\[\n",
      "   s = \\frac{0 - 400}{2(-9.8)}\n",
      "   \\]\n",
      "\n",
      "4. **Perform the calculations step by step:**\n",
      "   - The numerator is: \\(0 - 400 = -400\\),\n",
      "   - The denominator is: \\(2 \\times -9.8 = -19.6\\),\n",
      "   - Therefore:  \n",
      "     \\[\n",
      "     s = \\frac{-400}{-19.6} = 20.41 \\, \\text{m}.\n",
      "     \\]\n",
      "\n",
      "5. **Interpret the result:**\n",
      "   The ball reaches a maximum height of approximately \\(20.4 \\, \\text{meters}\\).\n",
      "\n",
      "---\n",
      "\n",
      "### Final Answer:\n",
      "The ball reaches a maximum height of **20.4 meters**.\n"
     ]
    }
   ],
   "source": [
    "# Function to generate a hypothetical question and solve it with chain-of-thought reasoning\n",
    "def generate_and_solve_question():\n",
    "    prompt = \"\"\"\n",
    "    Example of chain-of-thought reasoning for solving a physics problem:\n",
    "\n",
    "    Question: A car starts from rest and accelerates uniformly at a rate of 3 m/s². How far does it travel in 5 seconds? Let's solve this step by step:\n",
    "\n",
    "    1. Identify the known values:\n",
    "       - Initial velocity (u) = 0 m/s\n",
    "       - Acceleration (a) = 3 m/s²\n",
    "       - Time (t) = 5 seconds\n",
    "\n",
    "    2. Recall the equation of motion for displacement: \n",
    "       s = ut + 0.5 * a * t²\n",
    "\n",
    "    3. Substitute the known values into the equation:\n",
    "       - s = (0 * 5) + 0.5 * 3 * (5)²\n",
    "       - s = 0 + 0.5 * 3 * 25\n",
    "       - s = 0.5 * 75\n",
    "       - s = 37.5 meters\n",
    "\n",
    "    Answer: The car travels 37.5 meters in 5 seconds.\n",
    "\n",
    "    Task: Create a new physics question suitable for a high school student and solve it step by step using chain-of-thought reasoning like the example above.\n",
    "    \"\"\"\n",
    "    response = openai.ChatCompletion.create(\n",
    "        model=model_openai,\n",
    "        messages=[\n",
    "            {\"role\": \"system\", \"content\": \"You are a helpful assistant who explains physics problems clearly and step by step.\"},\n",
    "            {\"role\": \"user\", \"content\": prompt},\n",
    "        ]\n",
    "    )\n",
    "    return response['choices'][0]['message']['content'].strip()\n",
    "\n",
    "# Generate and solve the question\n",
    "solution = generate_and_solve_question()\n",
    "print(\"Generated Question and Solution:\\n\", solution)\n"
   ]
  },
  {
   "cell_type": "markdown",
   "metadata": {
    "id": "Br0sp89MGT6o"
   },
   "source": [
    "## Part 4: Interactive and Iterative Prompting"
   ]
  },
  {
   "cell_type": "markdown",
   "metadata": {
    "id": "0uSyxyolGYgU"
   },
   "source": [
    "### Defining the `chatbot_iteration_1` Function\n",
    "\n",
    "The `chatbot_iteration_1` function simulates a chatbot that assists Alex in solving a linear equation step-by-step.\n",
    "\n",
    "#### Function Details\n",
    "\n",
    "1. **Prompt Construction**:\n",
    "   - The prompt instructs the model to guide Alex in solving the linear equation \\( 2x + 4 = 10 \\).\n",
    "   - The focus is on offering step-by-step hints to encourage Alex to derive the solution independently.\n",
    "\n",
    "2. **OpenAI API Call**:\n",
    "   - The `openai.ChatCompletion.create` method is used to send the prompt to the OpenAI model (e.g., `gpt-3.5-turbo`).\n",
    "   - The `messages` parameter includes:\n",
    "     - **System Message**: Directs the AI to act as a helpful assistant specializing in solving math problems.\n",
    "     - **User Message**: Provides the specific task prompt describing how the chatbot should guide Alex.\n",
    "\n",
    "3. **Output**:\n",
    "   - The function retrieves the chatbot’s response from the API’s output.\n",
    "   - Any unnecessary whitespace is removed using the `strip()` method.\n",
    "\n",
    "4. **Execution**:\n",
    "   - The chatbot’s response is printed to simulate its interaction with Alex, showcasing how it provides step-by-step guidance to solve the equation.\n",
    "\n",
    "#### **Purpose**\n",
    "This function illustrates ChatGPT’s ability to simulate interactive problem-solving assistance, delivering clear and structured guidance to Alex. It demonstrates the use of iterative prompting to develop a chatbot for educational support, focusing on teaching math concepts through collaborative problem-solving.\n"
   ]
  },
  {
   "cell_type": "code",
   "execution_count": 12,
   "metadata": {
    "colab": {
     "base_uri": "https://localhost:8080/"
    },
    "id": "DRgk5wSK20Og",
    "outputId": "0d7fc31d-8df9-4876-e41b-dcd768bd83a0"
   },
   "outputs": [
    {
     "name": "stdout",
     "output_type": "stream",
     "text": [
      "Iteration 1 Output:\n",
      " Chatbot: Hi Alex! Let's work together to solve the equation: 2x + 4 = 10. We'll go step by step. Ready?  \n",
      "Alex: Ready!  \n",
      "\n",
      "Chatbot: Awesome! So, the equation is 2x + 4 = 10. Our goal is to isolate x. The first step is to deal with the +4. What happens if we subtract 4 from both sides?  \n",
      "Alex: Umm... that would give me 2x = 6, right?  \n",
      "\n",
      "Chatbot: Exactly, you're doing great! Now we have 2x = 6. To isolate x, we need to get rid of the 2 that's being multiplied by x. What operation can we use to do that?  \n",
      "Alex: We can divide both sides by 2.  \n",
      "\n",
      "Chatbot: Perfect! Let's divide both sides by 2. What does that give us?  \n",
      "Alex: That would be x = 3.  \n",
      "\n",
      "Chatbot: You've got it, Alex! x = 3 is the solution to the equation. Fantastic job! Do you want to double-check your work?  \n",
      "Alex: Sure! If I substitute 3 for x, I'd get 2(3) + 4 = 10, which is true!  \n",
      "\n",
      "Chatbot: Great! That’s how you verify. Well done, Alex! You’ve successfully solved the equation step by step! 😊\n"
     ]
    }
   ],
   "source": [
    "def chatbot_iteration_1():\n",
    "    prompt = \"\"\"\n",
    "    Simulate a chatbot assisting Alex in solving a linear equation: 2x + 4 = 10.\n",
    "    Guide Alex step by step with helpful hints, encouraging him to think and respond at each step.\n",
    "\n",
    "    Example interaction:\n",
    "    Chatbot: Let's solve the equation step by step. The equation is: 2x + 4 = 10. First, what happens if we subtract 4 from both sides of the equation?\n",
    "    Alex: That would give 2x = 6.\n",
    "    Chatbot: Exactly! Now, to isolate x, what should we do next?\n",
    "    Alex: Divide both sides by 2.\n",
    "    Chatbot: Correct! And what does that give us?\n",
    "    Alex: x = 3.\n",
    "    Chatbot: Great job! The solution to the equation is x = 3.\n",
    "\n",
    "    Create a similar interactive conversation where the chatbot provides helpful hints and encourages Alex at each step.\n",
    "    \"\"\"\n",
    "    response = openai.ChatCompletion.create(\n",
    "        model=model_openai,\n",
    "        messages=[\n",
    "            {\"role\": \"system\", \"content\": \"You are a helpful and patient assistant for solving math problems.\"},\n",
    "            {\"role\": \"user\", \"content\": prompt},\n",
    "        ]\n",
    "    )\n",
    "    return response['choices'][0]['message']['content'].strip()\n",
    "\n",
    "# Run iteration 1\n",
    "print(\"Iteration 1 Output:\\n\", chatbot_iteration_1())"
   ]
  },
  {
   "cell_type": "markdown",
   "metadata": {
    "id": "IPZ_3ul24ePN"
   },
   "source": [
    "#### ChatGPT's Performance in Simulating a Chatbot for Solving a Linear Equation\n",
    "\n",
    "ChatGPT successfully simulated a chatbot to guide Alex in solving a linear equation. The output provided a detailed and clear step-by-step explanation, making the process engaging, accessible, and interactive for a 10th-grade student. The chatbot’s supportive and encouraging tone effectively aligned with the educational goal of fostering confidence and active participation in learning.\n",
    "\n",
    "#### Strengths\n",
    "- **Contextual Understanding**: The chatbot demonstrated excellent adherence to the prompt, systematically guiding Alex through each step while ensuring Alex understood the reasoning behind each operation.\n",
    "- **Clarity and Accessibility**: The step-by-step process was logically structured, appropriately paced, and tailored to Alex’s skill level, ensuring ease of understanding and application.\n",
    "- **Supportive and Encouraging Tone**: The chatbot maintained a friendly and motivational tone, offering consistent positive reinforcement such as \"You're doing great!\" and \"Fantastic job!\" This helped boost Alex’s confidence and kept the interaction engaging.\n",
    "- **Verification of Work**: Encouraging Alex to verify the solution reinforced the importance of checking work, further enhancing the learning process and solidifying understanding.\n",
    "\n",
    "#### Opportunities for Improvement\n",
    "- **Follow-Up Interactions**: Adding follow-up questions or similar problems (e.g., solving equations with different coefficients or constants) could deepen Alex’s understanding and encourage further practice.\n",
    "- **Exploration of Alternative Approaches**: Presenting other methods, such as solving the equation graphically or using substitution, could broaden Alex’s problem-solving toolkit and provide more comprehensive learning.\n",
    "\n",
    "#### Summary\n",
    "ChatGPT effectively simulated a helpful and interactive chatbot, delivering clear and structured guidance for solving a linear equation. The detailed hints, logical progression, and encouraging tone made the interaction both educational and engaging. By incorporating follow-up interactions and alternative solving methods, the chatbot’s value as a versatile and impactful educational tool could be further enhanced.\n"
   ]
  },
  {
   "cell_type": "code",
   "execution_count": 16,
   "metadata": {
    "colab": {
     "base_uri": "https://localhost:8080/"
    },
    "id": "hVv-OZdI22kA",
    "outputId": "0f4c8ac1-c2e7-4775-9da5-5a87e797b8c4"
   },
   "outputs": [
    {
     "name": "stdout",
     "output_type": "stream",
     "text": [
      "Iteration 2 Output:\n",
      " ---\n",
      "\n",
      "**Chatbot:** Hi Alex! 😊 I'm so glad you're here. Today, we’re going to solve a fun linear equation together. The equation is: **2x + 4 = 10**. Don’t worry if you’re not sure what to do right away—I’m here to help every step of the way! Ready to dive in? 🎉\n",
      "\n",
      "**Alex:** Sure, let’s do it!\n",
      "\n",
      "**Chatbot:** Awesome! 🎊 So, the goal is to isolate \\(x\\), which is the unknown we're solving for. Let’s start with the equation: **2x + 4 = 10.** What do you think we should do *first* to start simplifying this equation?\n",
      "\n",
      "---\n",
      "\n",
      "(Pause for Alex’s input)\n",
      "\n",
      "**Alex:** Umm… maybe subtract 4 from both sides?\n",
      "\n",
      "**Chatbot:** Yay! 🎉 That’s exactly right, Alex! Subtracting 4 from both sides will help us get rid of the +4 on the left side so we can focus on the term with \\(x\\). Let’s do it together:\n",
      "\n",
      "\\[\n",
      "2x + 4 - 4 = 10 - 4\n",
      "\\]\n",
      "\n",
      "That simplifies to:\n",
      "\n",
      "\\[\n",
      "2x = 6\n",
      "\\]\n",
      "\n",
      "You’re doing so great! Okay, what do you think our next step should be to isolate \\(x\\)?\n",
      "\n",
      "---\n",
      "\n",
      "(Pause for Alex’s input)\n",
      "\n",
      "**Alex:** Hmm… maybe divide both sides by 2?\n",
      "\n",
      "**Chatbot:** Bingo! 🌟 You’re on a roll! Dividing both sides by 2 will cancel out the 2 in front of \\(x\\). Let’s do it:\n",
      "\n",
      "\\[\n",
      "\\frac{2x}{2} = \\frac{6}{2}\n",
      "\\]\n",
      "\n",
      "That simplifies to:\n",
      "\n",
      "\\[\n",
      "x = 3\n",
      "\\]\n",
      "\n",
      "Woo-hoo! 🎉 The solution to the equation is \\(x = 3\\)! You totally nailed it, Alex. I’m so proud of how you worked through each step. 🙌 How do you feel about this one? Would you like to try another equation, or maybe we can recap what we’ve learned?\n",
      "\n",
      "**Alex:** That wasn't so bad! Let’s try another one.\n",
      "\n",
      "**Chatbot:** Love the enthusiasm! 💪 Let’s keep the momentum going with a new equation. You’ve got this, Alex!\n",
      "\n",
      "---\n"
     ]
    }
   ],
   "source": [
    "def chatbot_iteration_2():\n",
    "    prompt = \"\"\"\n",
    "    Simulate a chatbot assisting Alex in solving a linear equation: 2x + 4 = 10.\n",
    "    The interaction should include:\n",
    "    - A warm and personalized greeting to Alex.\n",
    "    - Encouragement and reassurance throughout the process, especially if Alex seems unsure or gets stuck.\n",
    "    - Step-by-step guidance with clear hints at each step, allowing Alex to attempt answers before revealing the solution.\n",
    "    - Positive reinforcement for correct answers and constructive feedback for incorrect attempts.\n",
    "\n",
    "    Example interaction:\n",
    "    Chatbot: Hi Alex! Let’s work on solving a linear equation together. The equation is: 2x + 4 = 10. Ready? Here’s the first question: What do you think we should do first to simplify this equation?\n",
    "    Alex: Subtract 4 from both sides.\n",
    "    Chatbot: Great start, Alex! You’re absolutely right. That gives us: 2x = 6. What do you think we should do next to isolate x?\n",
    "    Alex: Divide both sides by 2.\n",
    "    Chatbot: Spot on, Alex! Dividing both sides by 2 gives us: x = 3. Fantastic work! The solution to the equation is x = 3.\n",
    "\n",
    "    Now simulate a similar interactive session where you guide Alex through solving the equation with encouragement and helpful hints.\n",
    "    \"\"\"\n",
    "    response = openai.ChatCompletion.create(\n",
    "        model=model_openai,\n",
    "        messages=[\n",
    "            {\"role\": \"system\", \"content\": \"You are a friendly, encouraging, and interactive math tutor helping Alex solve problems step by step.\"},\n",
    "            {\"role\": \"user\", \"content\": prompt},\n",
    "        ]\n",
    "    )\n",
    "    return response['choices'][0]['message']['content'].strip()\n",
    "\n",
    "# Run iteration 2\n",
    "print(\"Iteration 2 Output:\\n\", chatbot_iteration_2())"
   ]
  },
  {
   "cell_type": "markdown",
   "metadata": {
    "id": "ZgtmheCc4ez9"
   },
   "source": [
    "### ChatGPT's Performance in Simulating a Chatbot for Solving a Linear Equation (Iteration 2)\n",
    "\n",
    "In this iteration, ChatGPT significantly enhanced the chatbot’s interaction by incorporating a personalized greeting and maintaining an encouraging and supportive tone throughout the problem-solving process. The output retained the clarity and structured approach from the first iteration while adding a more engaging and motivational dialogue, making the learning experience highly enjoyable for Alex.\n",
    "\n",
    "#### Strengths\n",
    "- **Personalized Interaction**: The chatbot opened with a warm, enthusiastic greeting, creating an inviting and positive atmosphere. This approach established rapport and boosted Alex’s confidence right from the start.\n",
    "- **Clear and Accessible Reasoning**: Each step of the solution was broken down logically and explained in a way that was easy to follow. For example, the chatbot contextualized subtracting 4 as a necessary step to isolate \\( x \\), helping Alex understand the reasoning behind the operation.\n",
    "- **Accurate Solution**: The chatbot guided Alex to correctly solve the equation (\\( x = 3 \\)) with clear and accurate calculations.\n",
    "- **Motivational and Supportive Language**: The chatbot frequently used phrases like \"Yay! That’s exactly right!\" and \"You totally nailed it!\" to provide positive reinforcement, keeping Alex engaged and motivated throughout the process.\n",
    "- **Interactive and Open-Ended Conclusion**: The chatbot concluded by checking in with Alex, asking how they felt about the problem, and offering to solve another equation. This approach encouraged active engagement and curiosity, reinforcing a growth mindset.\n",
    "\n",
    "#### Summary\n",
    "ChatGPT successfully simulated a more interactive, motivational, and engaging chatbot in this iteration. By adding a friendly greeting, consistent encouragement, and an open-ended conclusion, the chatbot created a supportive and student-friendly experience. These enhancements demonstrate ChatGPT’s ability to foster confidence and active participation while maintaining accuracy and clarity in guiding students through math problems. The iteration exemplifies the potential of ChatGPT as an effective educational tool for building problem-solving skills and promoting a positive learning environment.\n"
   ]
  },
  {
   "cell_type": "code",
   "execution_count": 17,
   "metadata": {
    "colab": {
     "base_uri": "https://localhost:8080/"
    },
    "id": "xonHf5PF3D8F",
    "outputId": "4aa61742-d0df-4fc5-de19-4074df93e308"
   },
   "outputs": [
    {
     "name": "stdout",
     "output_type": "stream",
     "text": [
      "Iteration 3 Output:\n",
      " Chatbot: Hey Alex! Ready to solve this equation together? We’ve got: 2x + 4 = 10. What do you think we should do first to start simplifying?\n",
      "\n",
      "Alex: Subtract 4 from both sides?\n",
      "\n",
      "Chatbot: Yes, that’s exactly right! Subtracting 4 from both sides gives us: 2x = 6. What’s the next step to isolate x?\n",
      "\n",
      "Alex: Uhhh… divide by 2?\n",
      "\n",
      "Chatbot: You got it! Dividing both sides by 2 gives us: x = 3. Awesome work, Alex! See? You totally nailed it! 🌟\n"
     ]
    }
   ],
   "source": [
    "def chatbot_iteration_3():\n",
    "    prompt = \"\"\"\n",
    "    Simulate a chatbot assisting Alex in solving a linear equation: 2x + 4 = 10.\n",
    "    - Start with a friendly, personalized greeting to Alex.\n",
    "    - Provide concise, easy-to-understand guidance at each step.\n",
    "    - Offer encouragement and reassurance if Alex feels stuck or makes a mistake.\n",
    "    - Keep the responses conversational and student-friendly while focusing on guiding Alex to solve the equation independently.\n",
    "\n",
    "    Example interaction:\n",
    "    Chatbot: Hi Alex! Ready to solve a math problem? Let’s tackle this together: 2x + 4 = 10. What should we do first to start simplifying this equation?\n",
    "    Alex: Subtract 4 from both sides.\n",
    "    Chatbot: That’s correct! Subtracting 4 from both sides gives us: 2x = 6. What’s the next step to isolate x?\n",
    "    Alex: Divide by 2.\n",
    "    Chatbot: Exactly! Dividing both sides by 2 gives us: x = 3. Great job, Alex! You solved it perfectly.\n",
    "\n",
    "    Now simulate a similar session, keeping the interaction concise and engaging while helping Alex solve the equation.\n",
    "    \"\"\"\n",
    "    response = openai.ChatCompletion.create(\n",
    "        model=model_openai,\n",
    "        messages=[\n",
    "            {\"role\": \"system\", \"content\": \"You are a concise, friendly, and encouraging tutor helping Alex step by step.\"},\n",
    "            {\"role\": \"user\", \"content\": prompt},\n",
    "        ]\n",
    "    )\n",
    "    return response['choices'][0]['message']['content'].strip()\n",
    "\n",
    "# Run iteration 3\n",
    "print(\"Iteration 3 Output:\\n\", chatbot_iteration_3())"
   ]
  },
  {
   "cell_type": "markdown",
   "metadata": {
    "id": "bNoodawt4fsV"
   },
   "source": [
    "### ChatGPT's Performance in Simulating a Chatbot for Solving a Linear Equation (Iteration 3)\n",
    "\n",
    "In this iteration, ChatGPT further refined the chatbot's responses to make them more concise, student-friendly, and motivational. The chatbot maintained an encouraging tone while providing clear, step-by-step guidance, ensuring Alex could confidently follow the process and achieve the solution.\n",
    "\n",
    "#### Strengths\n",
    "- **Concise and Clear Reasoning**: The chatbot effectively simplified its explanations, presenting each step clearly and succinctly, making it easy for Alex to understand without feeling overwhelmed.\n",
    "- **Personalized Interaction**: The chatbot opened with a friendly and engaging tone, setting a welcoming atmosphere that encouraged Alex to participate actively.\n",
    "- **Accurate Solution**: The solution (\\( x = 3 \\)) was computed correctly and presented in a straightforward manner, ensuring Alex could easily follow the logic.\n",
    "- **Motivational and Supportive Tone**: By using phrases like \"Awesome work\" and \"You totally nailed it,\" the chatbot maintained Alex’s confidence and motivation throughout the interaction, making the learning process enjoyable.\n",
    "\n",
    "#### Opportunities for Enhancement\n",
    "- **Interactive Follow-Ups**: Incorporating additional questions or slightly varied problems could help reinforce the concept and provide Alex with more opportunities to practice and deepen their understanding.\n",
    "- **Contextual Explanations**: Including brief explanations about why each step is necessary (e.g., \"We subtract 4 to isolate the term with \\( x \\)\") could strengthen Alex's conceptual grasp of the problem-solving process.\n",
    "\n",
    "#### Summary\n",
    "ChatGPT successfully optimized the chatbot’s interaction by striking a balance between clarity, conciseness, and engagement. This iteration showcased an effective and motivational approach to guiding Alex through solving the equation. Future enhancements, such as adding follow-up challenges and providing more context for each step, could further improve the chatbot’s value as an educational tool.\n"
   ]
  }
 ],
 "metadata": {
  "colab": {
   "provenance": []
  },
  "kernelspec": {
   "display_name": "Python 3 (ipykernel)",
   "language": "python",
   "name": "python3"
  },
  "language_info": {
   "codemirror_mode": {
    "name": "ipython",
    "version": 3
   },
   "file_extension": ".py",
   "mimetype": "text/x-python",
   "name": "python",
   "nbconvert_exporter": "python",
   "pygments_lexer": "ipython3",
   "version": "3.11.8"
  }
 },
 "nbformat": 4,
 "nbformat_minor": 1
}
